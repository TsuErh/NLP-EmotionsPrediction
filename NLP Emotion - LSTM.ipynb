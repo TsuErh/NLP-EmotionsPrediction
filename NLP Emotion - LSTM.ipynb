{
 "cells": [
  {
   "cell_type": "code",
   "execution_count": 68,
   "id": "2bf7291a-0674-47d7-b00b-1fcb18816b79",
   "metadata": {},
   "outputs": [],
   "source": [
    "import pandas as pd\n",
    "import numpy as np\n",
    "\n",
    "import seaborn as sns\n",
    "import matplotlib.pyplot as plt\n",
    "\n",
    "import re\n",
    "from sklearn.model_selection import train_test_split\n",
    "from tensorflow.keras.callbacks import EarlyStopping\n",
    "import nltk\n",
    "from nltk.tokenize import word_tokenize\n",
    "from collections import Counter\n",
    "from keras.preprocessing import sequence\n",
    "from sklearn.model_selection import train_test_split\n",
    "from nltk.corpus import stopwords\n",
    "from nltk.stem import PorterStemmer\n",
    "from sklearn.metrics import confusion_matrix\n",
    "from tensorflow.keras.preprocessing.text import Tokenizer\n",
    "from tensorflow.keras.preprocessing.sequence import pad_sequences\n",
    "import io\n",
    "from tensorflow.keras.models import Sequential\n",
    "from tensorflow.keras.layers import Dense, Conv1D, MaxPooling1D, Dropout, Bidirectional, LSTM, Embedding\n",
    "from tensorflow.keras.optimizers import RMSprop, Adam\n",
    "from tensorflow.keras.metrics import Accuracy, F1Score\n",
    "from sklearn.metrics import classification_report\n",
    "\n",
    "import warnings\n",
    "warnings.filterwarnings('ignore')"
   ]
  },
  {
   "cell_type": "code",
   "execution_count": 3,
   "id": "0871ee73-b734-4c67-b7ea-642c026f68a2",
   "metadata": {},
   "outputs": [],
   "source": [
    "df = pd.read_csv(\"text.csv\")\n",
    "df.drop(columns=df.columns[0], axis=1, inplace=True)"
   ]
  },
  {
   "cell_type": "code",
   "execution_count": 4,
   "id": "0cafd63e-65bf-4795-8069-913098d9455b",
   "metadata": {},
   "outputs": [
    {
     "name": "stdout",
     "output_type": "stream",
     "text": [
      "<class 'pandas.core.frame.DataFrame'>\n",
      "RangeIndex: 416809 entries, 0 to 416808\n",
      "Data columns (total 2 columns):\n",
      " #   Column  Non-Null Count   Dtype \n",
      "---  ------  --------------   ----- \n",
      " 0   text    416809 non-null  object\n",
      " 1   label   416809 non-null  int64 \n",
      "dtypes: int64(1), object(1)\n",
      "memory usage: 6.4+ MB\n"
     ]
    }
   ],
   "source": [
    "df.info()"
   ]
  },
  {
   "cell_type": "code",
   "execution_count": 5,
   "id": "9998e1fe-fe9d-4cc5-b455-554d479df8c9",
   "metadata": {
    "scrolled": true
   },
   "outputs": [
    {
     "data": {
      "text/html": [
       "<div>\n",
       "<style scoped>\n",
       "    .dataframe tbody tr th:only-of-type {\n",
       "        vertical-align: middle;\n",
       "    }\n",
       "\n",
       "    .dataframe tbody tr th {\n",
       "        vertical-align: top;\n",
       "    }\n",
       "\n",
       "    .dataframe thead th {\n",
       "        text-align: right;\n",
       "    }\n",
       "</style>\n",
       "<table border=\"1\" class=\"dataframe\">\n",
       "  <thead>\n",
       "    <tr style=\"text-align: right;\">\n",
       "      <th></th>\n",
       "      <th>text</th>\n",
       "      <th>label</th>\n",
       "    </tr>\n",
       "  </thead>\n",
       "  <tbody>\n",
       "    <tr>\n",
       "      <th>0</th>\n",
       "      <td>i just feel really helpless and heavy hearted</td>\n",
       "      <td>4</td>\n",
       "    </tr>\n",
       "    <tr>\n",
       "      <th>1</th>\n",
       "      <td>ive enjoyed being able to slouch about relax a...</td>\n",
       "      <td>0</td>\n",
       "    </tr>\n",
       "    <tr>\n",
       "      <th>2</th>\n",
       "      <td>i gave up my internship with the dmrg and am f...</td>\n",
       "      <td>4</td>\n",
       "    </tr>\n",
       "    <tr>\n",
       "      <th>3</th>\n",
       "      <td>i dont know i feel so lost</td>\n",
       "      <td>0</td>\n",
       "    </tr>\n",
       "    <tr>\n",
       "      <th>4</th>\n",
       "      <td>i am a kindergarten teacher and i am thoroughl...</td>\n",
       "      <td>4</td>\n",
       "    </tr>\n",
       "  </tbody>\n",
       "</table>\n",
       "</div>"
      ],
      "text/plain": [
       "                                                text  label\n",
       "0      i just feel really helpless and heavy hearted      4\n",
       "1  ive enjoyed being able to slouch about relax a...      0\n",
       "2  i gave up my internship with the dmrg and am f...      4\n",
       "3                         i dont know i feel so lost      0\n",
       "4  i am a kindergarten teacher and i am thoroughl...      4"
      ]
     },
     "execution_count": 5,
     "metadata": {},
     "output_type": "execute_result"
    }
   ],
   "source": [
    "df.head()"
   ]
  },
  {
   "cell_type": "markdown",
   "id": "c5592f7c-2361-4416-ae44-505a86b6bafe",
   "metadata": {},
   "source": [
    "### Data Cleaning\n",
    "1. Removing white space\n",
    "2. Removing not numbers or letter characters\n",
    "4. Lowercasing\n",
    "5. Removeing stop words\n",
    "6. Removing URLs\n",
    "7. Removign Number\n",
    "8. Removing specical character"
   ]
  },
  {
   "cell_type": "code",
   "execution_count": 6,
   "id": "4c2aed2e-4153-415e-8d81-4acf8f560ec6",
   "metadata": {},
   "outputs": [],
   "source": [
    "def text_cleaning(text, stopwords):\n",
    "    # removing space\n",
    "    text = text.str.replace(r'\\s+', ' ', regex = True)\n",
    "    # removing non number and letter characters\n",
    "    text = text.apply(lambda x: re.sub(r'[^a-zA-Z\\s]', '', x))\n",
    "    # lowercasing\n",
    "    text = text.str.lower()\n",
    "    # removing stop words\n",
    "    text = text.apply(lambda x: ' '.join([word for word in x.split() if word not in (stopwords)]))\n",
    "    # removing number\n",
    "    text = text.str.replace(r'\\d+', '', regex = True)\n",
    "    # removing url\n",
    "    text = text.str.replace(r'http\\S+', '', regex = True)\n",
    "    # removing special character\n",
    "    text = text.str.replace(r'[^\\w\\s]', '', regex = True)\n",
    "    # removing url\n",
    "    text = text.str.replace(r'http\\S+', '', regex = True)\n",
    "\n",
    "    return text"
   ]
  },
  {
   "cell_type": "code",
   "execution_count": 7,
   "id": "523b622f-b06e-4406-bb51-4c1dad28384f",
   "metadata": {},
   "outputs": [],
   "source": [
    "stopwords_list = stopwords.words('english')\n",
    "df['text'] = text_cleaning(df['text'], stopwords_list)"
   ]
  },
  {
   "cell_type": "markdown",
   "id": "a2d87c09-88d6-4152-b66b-ad9e2d597ffa",
   "metadata": {},
   "source": [
    "### Split Train Test Set"
   ]
  },
  {
   "cell_type": "code",
   "execution_count": 8,
   "id": "79a4f96f-89c5-470f-8a5f-0fb02db923c4",
   "metadata": {},
   "outputs": [
    {
     "name": "stdout",
     "output_type": "stream",
     "text": [
      "The shape of X_train is  (333447,)\n",
      "The shape of X_test is  (83362,)\n",
      "The shape of y_train is (333447,)\n",
      "The shape of y_test is (83362,)\n"
     ]
    }
   ],
   "source": [
    "X = df['text']\n",
    "y = df['label']\n",
    "\n",
    "# Train Test Split \n",
    "X_train, X_test, y_train, y_test = train_test_split(X, y, test_size=0.2, random_state=42)\n",
    "\n",
    "# Print the shapes of the training and testing sets\n",
    "print(\"The shape of X_train is \", X_train.shape)\n",
    "print(\"The shape of X_test is \", X_test.shape)\n",
    "print(\"The shape of y_train is\", y_train.shape)\n",
    "print(\"The shape of y_test is\", y_test.shape)"
   ]
  },
  {
   "cell_type": "markdown",
   "id": "8f307544-7d81-4a6f-b2ec-05124dedab39",
   "metadata": {},
   "source": [
    "### Tokenization\n",
    "\n",
    "- Splitting all the input text in to words, even punctuation\n",
    "- Convert all the tokenized input into **numerical sequences**"
   ]
  },
  {
   "cell_type": "code",
   "execution_count": 48,
   "id": "ada2c4ba-afa6-4cb0-b77e-ad8ac563135c",
   "metadata": {},
   "outputs": [],
   "source": [
    "tokenizer = Tokenizer(num_words=60000)\n",
    "tokenizer.fit_on_texts(X_train)\n",
    "tokenizer.fit_on_texts(X_test)\n",
    "word_idx = tokenizer.word_index"
   ]
  },
  {
   "cell_type": "code",
   "execution_count": 49,
   "id": "eaa3d39f-7bf8-460e-aa59-aea30ffadf9e",
   "metadata": {},
   "outputs": [],
   "source": [
    "X_train_seq = tokenizer.texts_to_sequences(X_train)\n",
    "X_test_seq = tokenizer.texts_to_sequences(X_test)"
   ]
  },
  {
   "cell_type": "code",
   "execution_count": 13,
   "id": "b8ffa07e-b93e-4608-a51d-754080982297",
   "metadata": {},
   "outputs": [
    {
     "name": "stdout",
     "output_type": "stream",
     "text": [
      "79\n"
     ]
    }
   ],
   "source": [
    "maxlength = max(len(tokens) for tokens in X_train_seq)\n",
    "print(maxlength)"
   ]
  },
  {
   "cell_type": "markdown",
   "id": "9b6c03ac-f035-4f22-9754-6f7ef491a26a",
   "metadata": {},
   "source": [
    "### Padding Puzzle\n",
    "- Add padding to the converted sequences to make sure all the inputs will have the same lenght for LSTM"
   ]
  },
  {
   "cell_type": "code",
   "execution_count": 16,
   "id": "2d5c27b1-9db3-4e7f-b12e-103ae8045bf3",
   "metadata": {},
   "outputs": [],
   "source": [
    "X_train_padded = pad_sequences(X_train_seq, maxlen = maxlength, padding = \"post\")\n",
    "X_test_padded = pad_sequences(X_test_seq, maxlen = maxlength, padding = \"post\")"
   ]
  },
  {
   "cell_type": "code",
   "execution_count": 17,
   "id": "3562013f-f5cb-4cf9-b318-43a61681568e",
   "metadata": {},
   "outputs": [
    {
     "data": {
      "text/plain": [
       "60000"
      ]
     },
     "execution_count": 17,
     "metadata": {},
     "output_type": "execute_result"
    }
   ],
   "source": [
    "input_size = np.max(X_train_padded) + 1\n",
    "input_size"
   ]
  },
  {
   "cell_type": "markdown",
   "id": "0da6422d-d31f-4ba6-9b11-6e6c54d60af1",
   "metadata": {},
   "source": [
    "### Embeddings with FastText\n",
    "- Represent the number we converted from the tokens (with tokenization) with vectors\n",
    "- FastText\n",
    "    - Learns embeddings for character n-grams\n",
    "- The return of all these methods are usually a dictionary\n",
    "    - key: a word in the corpus\n",
    "    - value: a vector of size N"
   ]
  },
  {
   "cell_type": "code",
   "execution_count": 18,
   "id": "d19c99a0-aa18-4a6f-bc33-561115458cce",
   "metadata": {},
   "outputs": [],
   "source": [
    "def load_vectors(fname):\n",
    "    fin = io.open(\n",
    "        fname,\n",
    "        'r',\n",
    "        encoding = \"utf-8\",\n",
    "        newline = \"\\n\",\n",
    "        errors = \"ignore\"\n",
    "    )\n",
    "    n, d = map(int, fin.readline().split())\n",
    "    data = {}\n",
    "    for line in fin:\n",
    "        tokens = line.rstrip().split(' ')\n",
    "        data[tokens[0]] = list(map(float, tokens[1:]))\n",
    "    return data"
   ]
  },
  {
   "cell_type": "code",
   "execution_count": 21,
   "id": "56eea74f-bd01-4826-8149-2d903bd725dc",
   "metadata": {},
   "outputs": [],
   "source": [
    "embeddings = load_vectors(\"crawl-300d-2M.vec\")\n",
    "embedding_dim = len(embeddings[first])"
   ]
  },
  {
   "cell_type": "code",
   "execution_count": 54,
   "id": "06cdb3e0-1bba-4204-b545-ec539178203d",
   "metadata": {},
   "outputs": [],
   "source": [
    "embedding_matrix = np.zeros((len(word_idx) + 1, embedding_dim))"
   ]
  },
  {
   "cell_type": "code",
   "execution_count": 56,
   "id": "237fb589-8a46-47ec-a749-4f5bb096ecc5",
   "metadata": {},
   "outputs": [],
   "source": [
    "for word, idx in word_idx.items():\n",
    "    if embeddings.get(word):\n",
    "        embedding_matrix[idx] = embeddings[word]"
   ]
  },
  {
   "cell_type": "markdown",
   "id": "90e6a0bb-6a03-4216-85a6-d54dbf0feec2",
   "metadata": {},
   "source": [
    "### LSTM\n",
    "\n",
    "- Embedding Layer\n",
    "  - Weights: embedding_matrix\n",
    "  - input_length: maxlength after tokenization\n",
    "- Activation Function: Relu\n",
    "- Add a convolution layer and a Max Pooling layer to capture the relations in the input sequences and reduce the dimensionalities\n",
    "- LSTM: Bidirection LSTM"
   ]
  },
  {
   "cell_type": "code",
   "execution_count": 66,
   "id": "d81e17bd-8039-4153-aa5d-70592a3846f6",
   "metadata": {},
   "outputs": [
    {
     "name": "stderr",
     "output_type": "stream",
     "text": [
      "WARNING:absl:At this time, the v2.11+ optimizer `tf.keras.optimizers.RMSprop` runs slowly on M1/M2 Macs, please use the legacy Keras optimizer instead, located at `tf.keras.optimizers.legacy.RMSprop`.\n"
     ]
    },
    {
     "name": "stdout",
     "output_type": "stream",
     "text": [
      "Epoch 1/30\n",
      "10421/10421 [==============================] - 180s 17ms/step - loss: 0.2049 - accuracy: 0.9113 - val_loss: 0.1521 - val_accuracy: 0.9271\n",
      "Epoch 2/30\n",
      "10421/10421 [==============================] - 183s 18ms/step - loss: 0.1451 - accuracy: 0.9307 - val_loss: 0.1514 - val_accuracy: 0.9278\n",
      "Epoch 3/30\n",
      "10421/10421 [==============================] - 187s 18ms/step - loss: 0.1403 - accuracy: 0.9332 - val_loss: 0.1645 - val_accuracy: 0.9308\n",
      "Epoch 4/30\n",
      "10421/10421 [==============================] - 192s 18ms/step - loss: 0.1400 - accuracy: 0.9337 - val_loss: 0.1685 - val_accuracy: 0.9307\n",
      "Epoch 5/30\n",
      "10421/10421 [==============================] - 194s 19ms/step - loss: 0.1355 - accuracy: 0.9352 - val_loss: 0.1738 - val_accuracy: 0.9304\n",
      "Epoch 6/30\n",
      "10421/10421 [==============================] - 194s 19ms/step - loss: 0.1348 - accuracy: 0.9354 - val_loss: 0.1983 - val_accuracy: 0.9281\n",
      "Epoch 7/30\n",
      "10421/10421 [==============================] - 201s 19ms/step - loss: 0.1334 - accuracy: 0.9360 - val_loss: 0.1977 - val_accuracy: 0.9292\n",
      "Epoch 8/30\n",
      "10421/10421 [==============================] - 202s 19ms/step - loss: 0.1354 - accuracy: 0.9357 - val_loss: 0.1981 - val_accuracy: 0.9285\n",
      "Epoch 9/30\n",
      "10421/10421 [==============================] - 199s 19ms/step - loss: 0.1369 - accuracy: 0.9356 - val_loss: 0.1921 - val_accuracy: 0.9301\n",
      "Epoch 10/30\n",
      "10421/10421 [==============================] - 201s 19ms/step - loss: 0.1370 - accuracy: 0.9359 - val_loss: 0.1932 - val_accuracy: 0.9316\n",
      "Epoch 11/30\n",
      "10421/10421 [==============================] - 196s 19ms/step - loss: 0.1351 - accuracy: 0.9362 - val_loss: 0.2168 - val_accuracy: 0.9291\n",
      "Epoch 12/30\n",
      "10421/10421 [==============================] - 203s 20ms/step - loss: 0.1363 - accuracy: 0.9361 - val_loss: 0.2475 - val_accuracy: 0.9302\n",
      "Epoch 13/30\n",
      "10421/10421 [==============================] - 198s 19ms/step - loss: 0.1377 - accuracy: 0.9365 - val_loss: 0.2307 - val_accuracy: 0.9298\n",
      "Epoch 14/30\n",
      "10421/10421 [==============================] - 211s 20ms/step - loss: 0.1356 - accuracy: 0.9367 - val_loss: 0.2324 - val_accuracy: 0.9289\n",
      "Epoch 15/30\n",
      "10421/10421 [==============================] - 205s 20ms/step - loss: 0.1376 - accuracy: 0.9359 - val_loss: 0.1932 - val_accuracy: 0.9271\n",
      "Epoch 16/30\n",
      "10421/10421 [==============================] - 210s 20ms/step - loss: 0.1378 - accuracy: 0.9366 - val_loss: 0.2257 - val_accuracy: 0.9306\n",
      "Epoch 17/30\n",
      "10421/10421 [==============================] - 220s 21ms/step - loss: 0.1378 - accuracy: 0.9364 - val_loss: 0.2059 - val_accuracy: 0.9310\n",
      "Epoch 18/30\n",
      "10421/10421 [==============================] - 227s 22ms/step - loss: 0.1336 - accuracy: 0.9373 - val_loss: 0.2002 - val_accuracy: 0.9286\n",
      "Epoch 19/30\n",
      "10421/10421 [==============================] - 220s 21ms/step - loss: 0.1343 - accuracy: 0.9375 - val_loss: 0.2059 - val_accuracy: 0.9300\n",
      "Epoch 20/30\n",
      "10421/10421 [==============================] - 218s 21ms/step - loss: 0.1339 - accuracy: 0.9369 - val_loss: 0.2250 - val_accuracy: 0.9297\n",
      "Epoch 21/30\n",
      "10421/10421 [==============================] - 220s 21ms/step - loss: 0.1321 - accuracy: 0.9377 - val_loss: 0.2063 - val_accuracy: 0.9288\n",
      "Epoch 22/30\n",
      "10421/10421 [==============================] - 216s 21ms/step - loss: 0.1333 - accuracy: 0.9368 - val_loss: 0.2199 - val_accuracy: 0.9312\n",
      "Epoch 23/30\n",
      "10421/10421 [==============================] - 213s 20ms/step - loss: 0.1344 - accuracy: 0.9373 - val_loss: 0.2346 - val_accuracy: 0.9284\n",
      "Epoch 24/30\n",
      "10421/10421 [==============================] - 222s 21ms/step - loss: 0.1322 - accuracy: 0.9375 - val_loss: 0.2373 - val_accuracy: 0.9317\n",
      "Epoch 25/30\n",
      "10421/10421 [==============================] - 215s 21ms/step - loss: 0.1321 - accuracy: 0.9379 - val_loss: 0.2333 - val_accuracy: 0.9283\n",
      "Epoch 26/30\n",
      "10421/10421 [==============================] - 218s 21ms/step - loss: 0.1277 - accuracy: 0.9379 - val_loss: 0.2679 - val_accuracy: 0.9288\n",
      "Epoch 27/30\n",
      "10421/10421 [==============================] - 225s 22ms/step - loss: 0.1308 - accuracy: 0.9375 - val_loss: 0.2729 - val_accuracy: 0.9286\n",
      "Epoch 28/30\n",
      "10421/10421 [==============================] - 218s 21ms/step - loss: 0.1294 - accuracy: 0.9373 - val_loss: 0.2563 - val_accuracy: 0.9301\n",
      "Epoch 29/30\n",
      "10421/10421 [==============================] - 225s 22ms/step - loss: 0.1291 - accuracy: 0.9380 - val_loss: 0.2445 - val_accuracy: 0.9286\n",
      "Epoch 30/30\n",
      "10421/10421 [==============================] - 217s 21ms/step - loss: 0.1299 - accuracy: 0.9378 - val_loss: 0.2627 - val_accuracy: 0.9294\n"
     ]
    }
   ],
   "source": [
    "model = Sequential([Embedding(len(word_idx) + 1, \n",
    "                              embedding_dim, input_length = maxlength,\n",
    "                              weights = [embedding_matrix], trainable = False), \n",
    "                   Dropout(0,1), \n",
    "                   Conv1D(128, 5, activation = 'relu'),\n",
    "                   MaxPooling1D(pool_size = 5),\n",
    "                   Bidirectional(LSTM(64)),\n",
    "                   Dropout(0.1),\n",
    "                   Dense(512, activation = 'relu'),\n",
    "                   Dropout(0.1),\n",
    "                   Dense(len(y.unique()), activation = 'softmax')])\n",
    "\n",
    "model.compile(loss = 'sparse_categorical_crossentropy',\n",
    "             optimizer = RMSprop(0.002),\n",
    "             metrics = ['accuracy'])\n",
    "\n",
    "history = model.fit(X_train_padded, y_train, \n",
    "                    epochs = 30, \n",
    "                    validation_data = (X_test_padded, y_test))"
   ]
  },
  {
   "cell_type": "markdown",
   "id": "d77033a2-5ff7-47a8-9939-5f6bc0818a69",
   "metadata": {},
   "source": [
    "#### Training History\n",
    "From the training history plot below we find that no overfitting is observed, and the accuracy is quite good - around 93%, which indicates that we have successfully trained a good classifier for emotion classification from textual tweets."
   ]
  },
  {
   "cell_type": "code",
   "execution_count": 67,
   "id": "6a1b0f2e-9b23-41c7-b1e5-de91e54fbd55",
   "metadata": {},
   "outputs": [
    {
     "data": {
      "image/png": "[encoded data removed]",
      "text/plain": [
       "<Figure size 640x480 with 1 Axes>"
      ]
     },
     "metadata": {},
     "output_type": "display_data"
    }
   ],
   "source": [
    "epochs = [*range(30)]\n",
    "\n",
    "acc = history.history['accuracy']\n",
    "val_acc = history.history['val_accuracy']\n",
    "plt.plot(epochs, acc, 'r')\n",
    "plt.plot(epochs, val_acc, 'b')\n",
    "plt.title('Training and validation accuracy')\n",
    "plt.xlabel(\"Epochs\")\n",
    "plt.ylabel(\"Accuracy\")\n",
    "plt.legend([\"Accuracy\", \"Validation Accuracy\"])\n",
    "plt.show()"
   ]
  },
  {
   "cell_type": "code",
   "execution_count": 69,
   "id": "c217c7f4-ddd9-43b9-82d9-44ead489e5a4",
   "metadata": {},
   "outputs": [
    {
     "name": "stdout",
     "output_type": "stream",
     "text": [
      "2606/2606 [==============================] - 18s 7ms/step\n",
      "Classification report:\n",
      "               precision    recall  f1-score   support\n",
      "\n",
      "           0       0.99      0.95      0.97     24201\n",
      "           1       0.98      0.91      0.94     28164\n",
      "           2       0.76      0.97      0.85      6929\n",
      "           3       0.91      0.97      0.94     11441\n",
      "           4       0.92      0.86      0.89      9594\n",
      "           5       0.74      0.93      0.83      3033\n",
      "\n",
      "    accuracy                           0.93     83362\n",
      "   macro avg       0.88      0.93      0.90     83362\n",
      "weighted avg       0.94      0.93      0.93     83362\n",
      "\n"
     ]
    }
   ],
   "source": [
    "y_pred = model.predict(X_test_padded)\n",
    "y_pred = np.argmax(y_pred, axis=1)\n",
    "print(\"Classification report:\\n\", classification_report(y_test, y_pred))"
   ]
  }
 ],
 "metadata": {
  "kernelspec": {
   "display_name": "3.11.7",
   "language": "python",
   "name": "pyenv_3.11.7"
  },
  "language_info": {
   "codemirror_mode": {
    "name": "ipython",
    "version": 3
   },
   "file_extension": ".py",
   "mimetype": "text/x-python",
   "name": "python",
   "nbconvert_exporter": "python",
   "pygments_lexer": "ipython3",
   "version": "3.11.7"
  }
 },
 "nbformat": 4,
 "nbformat_minor": 5
}
